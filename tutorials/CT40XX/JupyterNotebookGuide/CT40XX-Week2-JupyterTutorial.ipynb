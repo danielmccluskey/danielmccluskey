{
 "cells": [
  {
   "cell_type": "markdown",
   "metadata": {},
   "source": [
    "<img src=\"img/uoglogo.jpg\" style=\"float:left; width: 30%;\" alt=\"Drawing\" />\n",
    "<img src=\"img/jupyterlogo.png\" style=\"float:right; width: 7%; text-align:left; margin-right:0; margin-top:0;\" />"
   ]
  },
  {
   "cell_type": "markdown",
   "metadata": {},
   "source": [
    "# CT40XX - Introduction to Artificial Intelligence"
   ]
  },
  {
   "cell_type": "markdown",
   "metadata": {},
   "source": [
    "## Week 2 - Jupyter Notebook Cheat sheet"
   ]
  },
  {
   "cell_type": "markdown",
   "metadata": {},
   "source": [
    "### Contents\n",
    "\n",
    "\n",
    "- <a href=\"#Week-2---Jupyter-Notebook-Cheat-sheet\">Introduction</a>\n",
    "    - <a href=\"#Introduction-to-Jupyter-Notebook\">Introduction to Jupyter Notebook</a>\n",
    "        - <a href=\"#Markdown-cells\">Markdown Cells</a>\n",
    "        - <a href=\"#Code-cells\">Code Cells</a>\n",
    "        \n",
    "    - <a href=\"#Making-your-own-cell\">Making your own cell</a>\n",
    "    - <a href=\"#Defining-a-Function\">Defining a Function</a>\n",
    "    - <a href=\"#Having-more-than-1-output\">Having more than 1 output</a>\n",
    "    - <a href=\"#Markdown-Formatting\">Keyboard Shortcuts</a>    \n",
    "    \n",
    "    \n",
    "- <a href=\"#Markdown-Formatting\">Markdown Formatting</a>\n",
    "    - <a href=\"#Markdown-Formatting\">Headers</a>\n",
    "    - <a href=\"#Markdown-Formatting\">Text Styling</a>\n",
    "    - <a href=\"#Markdown-Formatting\">Text Quoting</a>\n",
    "    - <a href=\"#Markdown-Formatting\">Lists</a>\n",
    "        - <a href=\"#Markdown-Formatting\">Un-Ordered List</a>\n",
    "        - <a href=\"#Markdown-Formatting\">Ordered List</a>\n",
    "        - <a href=\"#Markdown-Formatting\">Task Lists</a>\n",
    "    - <a href=\"#Markdown-Formatting\">Code Quoting</a>\n",
    "        - <a href=\"#Markdown-Formatting\">Inline Code Quoting</a>\n",
    "        - <a href=\"#Markdown-Formatting\">Multi-Line Code Quoting</a>\n",
    "    - <a href=\"#Markdown-Formatting\">Links</a>\n",
    "    - <a href=\"#Markdown-Formatting\">Images</a>\n",
    "        - <a href=\"#Markdown-Formatting\">Adding images to Markdown</a>\n",
    "        - <a href=\"#Markdown-Formatting\">Loading Images in code</a>\n"
   ]
  },
  {
   "cell_type": "markdown",
   "metadata": {},
   "source": [
    "<hr></hr>"
   ]
  },
  {
   "cell_type": "markdown",
   "metadata": {},
   "source": [
    "## Introduction to Jupyter Notebook"
   ]
  },
  {
   "cell_type": "markdown",
   "metadata": {},
   "source": [
    "This Notebook will give you a brief overview of the different markdown and code features that Jupyter notebook has to offer, once you have read through the notebook, make sure to open and give `CT40XX-Week2-Tutorial.ipynb` a go which contains a small tutorial task!"
   ]
  },
  {
   "cell_type": "markdown",
   "metadata": {},
   "source": [
    "### What is Jupyter Notebook?"
   ]
  },
  {
   "cell_type": "markdown",
   "metadata": {},
   "source": [
    "Jupyter Notebook is a web application which allows you to create and share documents that contain live code, graphs, visualisations and narrative text which makes it a perfect medium for presenting analysis descriptions for data analysis."
   ]
  },
  {
   "cell_type": "markdown",
   "metadata": {},
   "source": [
    "##### The Kernel"
   ]
  },
  {
   "cell_type": "markdown",
   "metadata": {},
   "source": [
    "The kernel is the program that runs the users code cells. You may have noticed it when you opened Jupyter Notebook, it is the command window that opens before your browser does. This initialises the local server on your machine which your browser connects to via the Jupyter Dashboard.\n",
    "\n",
    "<img src=\"img/kernel.png\" style=\"float:clear; width: 30%; text-align:left; margin-left:0;\" />"
   ]
  },
  {
   "cell_type": "markdown",
   "metadata": {},
   "source": [
    "##### The Dashboard"
   ]
  },
  {
   "cell_type": "markdown",
   "metadata": {},
   "source": [
    "The dashboard of Jupyter notebook gives you a visual user interface in which you can open notebooks and view your work. It can also be used to open a terminal into which you can send commands to your Kernel. "
   ]
  },
  {
   "cell_type": "markdown",
   "metadata": {},
   "source": [
    "<img src=\"img/jupyterdashboard.png\" style=\"float:left; width: 48%; text-align:left; margin-left:0;\" />\n",
    "<img src=\"img/jupyternotebook.png\" style=\"float:right; width: 48%; text-align:right; margin-right:0;margin-top:0;\" />"
   ]
  },
  {
   "cell_type": "markdown",
   "metadata": {},
   "source": [
    "#### Markdown cells"
   ]
  },
  {
   "cell_type": "markdown",
   "metadata": {},
   "source": [
    "I am a Markdown cell! I contain narrative text which helps explain code! You can double click me to edit my contents and press <kbd>Ctrl</kbd>+<kbd>Enter</kbd> to save my changes and apply formatting!\n",
    "\n",
    "Try double clicking this cell, change some text and apply it using <kbd>Ctrl</kbd>+<kbd>Enter</kbd>!"
   ]
  },
  {
   "cell_type": "markdown",
   "metadata": {},
   "source": [
    "#### Code cells"
   ]
  },
  {
   "cell_type": "markdown",
   "metadata": {},
   "source": [
    "The code in the cell below will run and output below it, when you select the cell and then press \"Run\" on the toolbar above, or if you press <kbd>Ctrl</kbd>+<kbd>Enter</kbd>."
   ]
  },
  {
   "cell_type": "code",
   "execution_count": 1,
   "metadata": {},
   "outputs": [
    {
     "data": {
      "text/plain": [
       "32"
      ]
     },
     "execution_count": 1,
     "metadata": {},
     "output_type": "execute_result"
    }
   ],
   "source": [
    "#I am a Python Code cell, I can run Python scripts!\n",
    "20+12"
   ]
  },
  {
   "cell_type": "markdown",
   "metadata": {},
   "source": [
    "<hr></hr>"
   ]
  },
  {
   "cell_type": "markdown",
   "metadata": {},
   "source": [
    "#### Making your own cell"
   ]
  },
  {
   "cell_type": "markdown",
   "metadata": {},
   "source": [
    "You can make your own cell by clicking the \"+\" button, by clicking \"Insert\" on the toolbar above or pressing <kbd>b</kbd> on your keyboard.\n",
    "\n",
    "You can then change the cell type using the dropdown box on the right side of the toolbar. Or you can use <kbd>y</kbd> to change it to a code cell, or <kbd>m</kbd> to change it to a Markdown cell.\n",
    "![ToolbarGuide](img/toolbar.png)\n",
    "\n",
    "Try making your own cell below this one and running some basic Python code like 10+10.\n"
   ]
  },
  {
   "cell_type": "markdown",
   "metadata": {},
   "source": [
    "<hr></hr>"
   ]
  },
  {
   "cell_type": "markdown",
   "metadata": {},
   "source": [
    "#### Having more than 1 output"
   ]
  },
  {
   "cell_type": "markdown",
   "metadata": {},
   "source": [
    "In some cases, we would like to see more than 1 value in the output for a cell.\n",
    "\n",
    "The cell below uses the default output of Jupyter Notebook"
   ]
  },
  {
   "cell_type": "code",
   "execution_count": 2,
   "metadata": {},
   "outputs": [
    {
     "data": {
      "text/plain": [
       "15"
      ]
     },
     "execution_count": 2,
     "metadata": {},
     "output_type": "execute_result"
    }
   ],
   "source": [
    "28+32\n",
    "5+10"
   ]
  },
  {
   "cell_type": "markdown",
   "metadata": {},
   "source": [
    "See how only 1 output was shown, when we had two statements?\n",
    "\n",
    "To get around this we can use the print() function"
   ]
  },
  {
   "cell_type": "code",
   "execution_count": 3,
   "metadata": {},
   "outputs": [
    {
     "name": "stdout",
     "output_type": "stream",
     "text": [
      "60\n",
      "15\n"
     ]
    }
   ],
   "source": [
    "print(28+32)\n",
    "print(5+10)"
   ]
  },
  {
   "cell_type": "markdown",
   "metadata": {},
   "source": [
    "Now both statements have been printed!"
   ]
  },
  {
   "cell_type": "markdown",
   "metadata": {},
   "source": [
    "<hr></hr>"
   ]
  },
  {
   "cell_type": "markdown",
   "metadata": {},
   "source": [
    "### Keyboard Shortcuts"
   ]
  },
  {
   "cell_type": "markdown",
   "metadata": {},
   "source": [
    "There are a bunch of handy keyboard shortcuts that allow you to speed up your workflow in Jupyter Notebook, here are a few examples:\n",
    "- <kbd>Ctrl</kbd> + <kbd>Enter</kbd>: Runs the currently selected cell.\n",
    "- <kbd>m</kbd>: Converts the currently selected cell to Markdown.\n",
    "- <kbd>y</kbd>: Converts the currently selected cell to Code.\n",
    "- <kbd>d</kbd> + <kbd>d</kbd>: Deletes the currently selected cell. (Double tap the <kbd>d</kbd> key)\n",
    "- <kbd>o</kbd>: Toggles the Output of a code cell between Hidden and Shown.\n",
    "- <kbd>b</kbd>: Creates a new Cell.\n",
    "- <kbd>0</kbd> + <kbd>0</kbd>: Resets the kernel (Resets all code variables and definitions)\n",
    "\n",
    "\n",
    "- <kbd>Shift</kbd> + <kbd>Tab</kbd>: In code, will display information about a currently highlighted function. The following image shows what it looks like when we use the shortcut on the Image.open() function:\n",
    "    - <img src=\"img/shifttab.png\" style=\"float:clear; width: 30%; text-align:left; margin-left:0;\" alt=\"Drawing\" />\n",
    "\n",
    "\n",
    "- <kbd>Shift</kbd> + <kbd>M</kbd>: Merges the currently selected cells.\n",
    "\n",
    "- <kbd>Shift</kbd> + <kbd>Left Click</kbd> or <kbd>Shift</kbd> + <kbd>Up/Down Arrow</kbd>: Select/highlights multiple cells."
   ]
  },
  {
   "cell_type": "markdown",
   "metadata": {},
   "source": [
    "<hr></hr>"
   ]
  },
  {
   "cell_type": "markdown",
   "metadata": {},
   "source": [
    "# Markdown Formatting"
   ]
  },
  {
   "cell_type": "markdown",
   "metadata": {},
   "source": [
    "### Headers"
   ]
  },
  {
   "cell_type": "markdown",
   "metadata": {},
   "source": [
    "To create a header, you can use a <kbd>#</kbd> symbol followed by a space and your header name. You can include up to six <kbd>#</kbd> symbols to make your headers smaller. An example of this can be seen below:\n",
    "```\n",
    "# The largest header\n",
    "## The second largest header\n",
    "###### The smallest header\n",
    "```\n",
    "\n",
    "Which would produce:\n",
    "<img src=\"img/headers.png\" style=\"float:clear; width: 30%; text-align:left; margin-left:0;\" alt=\"Drawing\" />"
   ]
  },
  {
   "cell_type": "markdown",
   "metadata": {},
   "source": [
    "<hr></hr>"
   ]
  },
  {
   "cell_type": "markdown",
   "metadata": {},
   "source": [
    "### Text Styling"
   ]
  },
  {
   "cell_type": "markdown",
   "metadata": {},
   "source": [
    "You can style text in markdown cells through the use of special symbols. The table below shows some of the different combinations of symbols you can use to create these effects such as making text **Bold** or _Italic_."
   ]
  },
  {
   "cell_type": "markdown",
   "metadata": {},
   "source": [
    "\n",
    "<table style=\"width:100%;\">\n",
    "        <tr>\n",
    "            <td style=\"text-align: center;\"><strong>Style</strong></td>\n",
    "            <td style=\"text-align: center;\"><strong>Syntax</strong></td>\n",
    "            <td style=\"text-align: center;\"><strong>Example</strong></td>\n",
    "            <td style=\"text-align: center;\"><strong>Output</strong></td>\n",
    "        </tr>\n",
    "        <tr>\n",
    "            <td style=\"text-align: center;\">Bold</td>\n",
    "            <td style=\"text-align: center;\"><kbd>** **</kbd> or <kbd>__ __</kbd></td>\n",
    "            <td style=\"text-align: center;\"><kbd>**Bold Text**</kbd></td>\n",
    "            <td style=\"text-align: center;\"><strong>Bold Text</strong></td>\n",
    "        </tr>\n",
    "        <tr>\n",
    "            <td style=\"text-align: center;\">Italic</td>\n",
    "            <td style=\"text-align: center;\"><kbd>* *</kbd> or <kbd>_ _</kbd></td>\n",
    "            <td style=\"text-align: center;\"><kbd>*Italic Text*</kbd></td>\n",
    "            <td style=\"text-align: center;\"><i>Italic Text</i></td>\n",
    "        </tr>\n",
    "        <tr>\n",
    "            <td style=\"text-align: center;\">Strikethrough</td>\n",
    "            <td style=\"text-align: center;\"><kbd>~~ ~~</kbd></td>\n",
    "            <td style=\"text-align: center;\"><kbd>~~Strikethrough Text~~</kbd></td>\n",
    "            <td style=\"text-align: center;\"><strike>Strikethrough Text</strike></td>\n",
    "        </tr>\n",
    "        <tr>\n",
    "            <td style=\"text-align: center;\">Bold and Italic</td>\n",
    "            <td style=\"text-align: center;\"><kbd>** **</kbd> and <kbd>_ _</kbd></td>\n",
    "            <td style=\"text-align: center;\"><kbd>**Bold and _Italic_ Text**</kbd></td>\n",
    "            <td style=\"text-align: center;\"><strong>Bold and <i>Italic</i> Text</strong></td>\n",
    "        </tr>\n",
    "        \n",
    "    \n",
    "</table>"
   ]
  },
  {
   "cell_type": "markdown",
   "metadata": {},
   "source": [
    "<hr></hr>"
   ]
  },
  {
   "cell_type": "markdown",
   "metadata": {},
   "source": [
    "### Text Quoting"
   ]
  },
  {
   "cell_type": "markdown",
   "metadata": {},
   "source": [
    "You can quote text using the <kbd>></kbd> symbol followed by a space, or you can have multiline quotes. For example:\n",
    "```\n",
    "Dr Seuss:\n",
    "> Don't cry because it's over, smile because it happened.\n",
    "  \n",
    "  \n",
    "Albert Einstein:\n",
    "> Two things are infinite: the universe and human stupidity;\n",
    "> \n",
    ">  and I'm not sure about the universe.\n",
    "```\n",
    "Would produce:\n",
    "\n",
    "Dr Seuss:\n",
    "> Don't cry because it's over, smile because it happened.\n",
    "   \n",
    "Albert Einstein:\n",
    "> Two things are infinite: the universe and human stupidity;\n",
    "> \n",
    ">  and I'm not sure about the universe.\n"
   ]
  },
  {
   "cell_type": "markdown",
   "metadata": {},
   "source": [
    "<hr></hr>"
   ]
  },
  {
   "cell_type": "markdown",
   "metadata": {},
   "source": [
    "### Lists"
   ]
  },
  {
   "cell_type": "markdown",
   "metadata": {},
   "source": [
    "You can make lists in markdown cells, they can be either ordered, unordered or task lists. You can have sublists by indenting your lists.\n"
   ]
  },
  {
   "cell_type": "markdown",
   "metadata": {},
   "source": [
    "#### Un-Ordered List\n",
    "An Un-ordered list is a list that uses bullet points, they are produced by either using <kbd>*</kbd> or <kbd>-</kbd> followed by a space. \n",
    "For example:\n",
    "```\n",
    "* Apples\n",
    "* Bananas\n",
    "    * Oranges\n",
    "- Pears\n",
    "```\n",
    "Would produce:\n",
    "* Apples\n",
    "* Bananas\n",
    "    * Oranges\n",
    "- Pears\n"
   ]
  },
  {
   "cell_type": "markdown",
   "metadata": {},
   "source": [
    "#### Ordered List\n",
    "An Ordered list is a list that uses incrementing numbers for each member of the list and letters for each member of a sublist, they are produced by using <kbd>1.</kbd> followed by a space. \n",
    "For example:\n",
    "```\n",
    "1. Apples\n",
    "1. Bananas\n",
    "    1. Oranges\n",
    "    1. Pineapples\n",
    "1. Pears\n",
    "```\n",
    "Would produce:\n",
    "1. Apples\n",
    "1. Bananas\n",
    "    1. Oranges\n",
    "    1. Pineapples\n",
    "\n",
    "1. Pears\n"
   ]
  },
  {
   "cell_type": "markdown",
   "metadata": {},
   "source": [
    "#### Task Lists\n",
    "You can make task lists by using a <kbd>-</kbd> symbol followed by a <kbd>[ ]</kbd> to make an empty check box or a <kbd>[x]</kbd> to make a ticked checkbox.\n",
    "\n",
    "For example:\n",
    "```\n",
    "Shopping List\n",
    "- [ ] Milk\n",
    "- [ ] Biscuits\n",
    "    - [x] Chocolate\n",
    "    - [ ] Digestive    \n",
    "- [ ] Eggs\n",
    "- [x] Bread\n",
    "- [x] Sugar\n",
    "```\n",
    "Would produce:\n",
    "\n",
    "Shopping List\n",
    "- [ ] Milk\n",
    "- [ ] Biscuits\n",
    "    - [x] Chocolate\n",
    "    - [ ] Digestive    \n",
    "- [ ] Eggs\n",
    "- [x] Bread\n",
    "- [x] Sugar\n"
   ]
  },
  {
   "cell_type": "markdown",
   "metadata": {},
   "source": [
    "<hr></hr>"
   ]
  },
  {
   "cell_type": "markdown",
   "metadata": {},
   "source": [
    "### Code Quoting"
   ]
  },
  {
   "cell_type": "markdown",
   "metadata": {},
   "source": [
    "In Markdown cells you can quote code and even give it syntax highlighting, this helps narrate code without using a code cell. You can either use Inline code quoting or Multi-Line code quoting."
   ]
  },
  {
   "cell_type": "markdown",
   "metadata": {},
   "source": [
    "###### Inline Code Quoting\n",
    "Inline code quoting is useful for emphasising variable names or quoting functions, it is done by surrounding words with <kbd>`</kbd> symbols. For example:\n",
    "\n",
    "```\n",
    "The variable `fMeanAbsoluteError` is useful for...\n",
    "```\n",
    "Would produce:\n",
    "\n",
    "The variable `fMeanAbsoluteError` is useful for...\n"
   ]
  },
  {
   "cell_type": "markdown",
   "metadata": {},
   "source": [
    "###### Multi-Line Code Quoting\n",
    "To quote multiple lines of code, you can either surround your code in three <kbd>\\`\\`\\`</kbd> symbols or just use a code cell. \n",
    "\n",
    "For example:\n",
    "- <img src=\"img/codequote.png\" style=\"float:clear; width: 30%; text-align:left; margin-left:0;\" alt=\"Drawing\" />\n",
    "\n",
    "- Which produces:\n",
    "```\n",
    "def SumOfList(lList, fThresh):\n",
    "    return sum([fNumber for fNumber in lList if fNumber > fThresh])\n",
    "```\n",
    "\n",
    "\n",
    "Or you can add syntax highlighting by naming the programming language at the start of the quote like so:\n",
    "- <img src=\"img/codequotepython.png\" style=\"float:clear; width: 30%; text-align:left; margin-left:0;\" alt=\"Drawing\" />\n",
    "\n",
    "- Which displays as:\n",
    "```python\n",
    "def SumOfList(lList, fThresh):\n",
    "    return sum([fNumber for fNumber in lList if fNumber > fThresh])\n",
    "```\n"
   ]
  },
  {
   "cell_type": "markdown",
   "metadata": {},
   "source": [
    "<hr></hr>"
   ]
  },
  {
   "cell_type": "markdown",
   "metadata": {},
   "source": [
    "### Quoting Equations"
   ]
  },
  {
   "cell_type": "markdown",
   "metadata": {},
   "source": [
    "You can quote equations by surrounding it with <kbd>$</kbd> for an inline equation or with <kbd>$$</kbd> to put the equation on its own line, For example:\n",
    "\n",
    "```\n",
    "What is the value of y when $x = 4$?\n",
    "$$y= (x/3)^2 + 14$$\n",
    "```\n",
    "    \n",
    "What is the value of y when $x = 4$?\n",
    "$$y= (x/3)^2 + 14$$"
   ]
  },
  {
   "cell_type": "markdown",
   "metadata": {},
   "source": [
    "### Links\n",
    "You can apply a hyper-link to text using `[Text to add Link to](Link)`\n",
    "\n",
    "For example:\n",
    "\n",
    "`Here is a [Link to Google](http://www.google.com)`\n",
    "\n",
    "Would produce:\n",
    "\n",
    "Here is a [Link to Google](http://www.google.com)"
   ]
  },
  {
   "cell_type": "markdown",
   "metadata": {},
   "source": [
    "<hr></hr>"
   ]
  },
  {
   "cell_type": "markdown",
   "metadata": {},
   "source": [
    "## Images"
   ]
  },
  {
   "cell_type": "markdown",
   "metadata": {},
   "source": [
    "### Adding images to Markdown"
   ]
  },
  {
   "cell_type": "markdown",
   "metadata": {},
   "source": [
    "Images can be used in Markdown cells which can be used for a range of reasons like displaying graphs, emphasising a point, showing a logo etc. In the above section, one was used to show you the Jupyter Notebook toolbar.\n",
    "\n",
    "The syntax for doing this is `![ImageTooltip](ImageLocation)`\n",
    "\n",
    "- ImageTooltip is the text that displays when you hover over the image.\n",
    "- Image location will be the location of the image in relevance to where your Jupyter Notebook file is stored. e.g. img/cat.png\n",
    "    - We do not need quotation marks around the file path for markdown.\n",
    "    \n",
    "    \n",
    "Running `![PictureOfDuck](img/duck.png)` will present you with:\n",
    "![PictureOfDuck](img/duck.png)\n",
    "\n",
    "\n",
    "\n",
    "\n",
    "Create a markdown cell below this one and load the example image located at \n",
    "\n",
    ">img/cat.png"
   ]
  },
  {
   "cell_type": "markdown",
   "metadata": {},
   "source": [
    "<hr></hr>"
   ]
  },
  {
   "cell_type": "markdown",
   "metadata": {},
   "source": [
    "### Loading Images in code "
   ]
  },
  {
   "cell_type": "markdown",
   "metadata": {},
   "source": [
    "If you would like to load an image from code instead, that is still possible!\n",
    "You would first need to import an Image library and then load the image using that libraries methods.\n",
    "\n",
    "For example, below we are using the Image module from the PIL library and then loading a picture of a dog from a folder. Try running the cell!"
   ]
  },
  {
   "cell_type": "code",
   "execution_count": 4,
   "metadata": {},
   "outputs": [
    {
     "data": {
      "image/png": "[encoded data removed]",
      "text/plain": [
       "<PIL.JpegImagePlugin.JpegImageFile image mode=RGB size=260x391 at 0x7F58C03B8ED0>"
      ]
     },
     "execution_count": 4,
     "metadata": {},
     "output_type": "execute_result"
    }
   ],
   "source": [
    "from PIL import Image\n",
    "Image.open(\"img/dog.png\") #We need quotations around the file path this time since we're in code!"
   ]
  },
  {
   "cell_type": "markdown",
   "metadata": {},
   "source": [
    "<hr></hr>"
   ]
  },
  {
   "cell_type": "markdown",
   "metadata": {},
   "source": [
    "# Coding"
   ]
  },
  {
   "cell_type": "markdown",
   "metadata": {},
   "source": [
    "You can use code cells to code in Python, here are some examples to get you started."
   ]
  },
  {
   "cell_type": "markdown",
   "metadata": {},
   "source": [
    "#### Defining Variables"
   ]
  },
  {
   "cell_type": "markdown",
   "metadata": {},
   "source": [
    "You can use code cells to define variables, and then use markdown cells to explain what they represent. The variables can then be used in cells below it!"
   ]
  },
  {
   "cell_type": "code",
   "execution_count": 5,
   "metadata": {},
   "outputs": [],
   "source": [
    "iNumber = 5\n",
    "fRational = 0.125\n",
    "bReady = False\n",
    "sName = \"Dave\""
   ]
  },
  {
   "cell_type": "markdown",
   "metadata": {},
   "source": [
    "After you have run that cell, you can then use those variables in proceeding cells"
   ]
  },
  {
   "cell_type": "code",
   "execution_count": 6,
   "metadata": {},
   "outputs": [
    {
     "name": "stdout",
     "output_type": "stream",
     "text": [
      "5.125\n",
      "False\n",
      "Dave\n"
     ]
    }
   ],
   "source": [
    "fTestAddition = fRational + iNumber\n",
    "print(fTestAddition)\n",
    "print(bReady)\n",
    "print(sName)"
   ]
  },
  {
   "cell_type": "markdown",
   "metadata": {},
   "source": [
    "<hr></hr>"
   ]
  },
  {
   "cell_type": "markdown",
   "metadata": {},
   "source": [
    "#### Defining a Function"
   ]
  },
  {
   "cell_type": "markdown",
   "metadata": {},
   "source": [
    "Similarly to variables, you can also use code cells to define functions, and then use markdown cells to explain what they do. The functions can then be used in cells below it!"
   ]
  },
  {
   "cell_type": "markdown",
   "metadata": {},
   "source": [
    "This function returns the sum of all the values in a given list that are greater than the given threshhold"
   ]
  },
  {
   "cell_type": "code",
   "execution_count": 7,
   "metadata": {},
   "outputs": [],
   "source": [
    "def SumOfList(lList, fThresh):\n",
    "    return sum([fNumber for fNumber in lList if fNumber > fThresh])"
   ]
  },
  {
   "cell_type": "markdown",
   "metadata": {},
   "source": [
    "The function can then be used in proceeding cells."
   ]
  },
  {
   "cell_type": "code",
   "execution_count": 8,
   "metadata": {},
   "outputs": [
    {
     "data": {
      "text/plain": [
       "256"
      ]
     },
     "execution_count": 8,
     "metadata": {},
     "output_type": "execute_result"
    }
   ],
   "source": [
    "lNumbers = [20, 1, 204, 32, 2]\n",
    "SumOfList(lNumbers, 2)"
   ]
  },
  {
   "cell_type": "markdown",
   "metadata": {},
   "source": [
    "<hr></hr>"
   ]
  },
  {
   "cell_type": "markdown",
   "metadata": {},
   "source": [
    "#### Using If and else statements"
   ]
  },
  {
   "cell_type": "markdown",
   "metadata": {},
   "source": [
    "You can use If and else statements in code cells, but they must be in the same cell, otherwise you will recieve the following error:\n",
    "\n",
    "<img src=\"img/iferror.png\" style=\"float:clear; width: 30%; text-align:left; margin-left:0;\" alt=\"Error\" />"
   ]
  },
  {
   "cell_type": "markdown",
   "metadata": {},
   "source": [
    "So they must be in the same cell like so"
   ]
  },
  {
   "cell_type": "code",
   "execution_count": 9,
   "metadata": {},
   "outputs": [],
   "source": [
    "if(True):\n",
    "    bReady = False\n",
    "else:\n",
    "    bReady = True"
   ]
  },
  {
   "cell_type": "markdown",
   "metadata": {},
   "source": [
    "#### Using Loops"
   ]
  },
  {
   "cell_type": "markdown",
   "metadata": {},
   "source": [
    "Using loops is the same"
   ]
  },
  {
   "cell_type": "code",
   "execution_count": 10,
   "metadata": {},
   "outputs": [
    {
     "name": "stdout",
     "output_type": "stream",
     "text": [
      "0\n",
      "1\n",
      "2\n",
      "3\n",
      "4\n",
      "5\n",
      "6\n",
      "7\n",
      "8\n",
      "9\n",
      "10\n",
      "11\n",
      "12\n",
      "13\n",
      "14\n",
      "15\n",
      "16\n",
      "17\n",
      "18\n",
      "19\n",
      "20\n",
      "19\n",
      "18\n",
      "17\n",
      "16\n",
      "15\n",
      "14\n",
      "13\n",
      "12\n",
      "11\n",
      "10\n",
      "9\n",
      "8\n",
      "7\n",
      "6\n",
      "5\n",
      "4\n",
      "3\n",
      "2\n",
      "1\n"
     ]
    }
   ],
   "source": [
    "iIncrement = 0\n",
    "while(iIncrement < 20):\n",
    "    print(iIncrement),\n",
    "    iIncrement += 1;\n",
    "    \n",
    "for num in range(iIncrement):\n",
    "    print(iIncrement),\n",
    "    iIncrement -= 1"
   ]
  },
  {
   "cell_type": "markdown",
   "metadata": {},
   "source": [
    "#### Importing Modules"
   ]
  },
  {
   "cell_type": "markdown",
   "metadata": {},
   "source": [
    "You can also import modules and libraries, which then can be accessed by proceeding cells."
   ]
  },
  {
   "cell_type": "code",
   "execution_count": 11,
   "metadata": {},
   "outputs": [
    {
     "name": "stdout",
     "output_type": "stream",
     "text": [
      "3.141592653589793\n"
     ]
    }
   ],
   "source": [
    "import math as MathLibrary\n",
    "print(MathLibrary.pi)"
   ]
  },
  {
   "cell_type": "markdown",
   "metadata": {},
   "source": [
    "#### An example"
   ]
  },
  {
   "cell_type": "markdown",
   "metadata": {},
   "source": [
    "This is a function that will return how many negatives are in the given list."
   ]
  },
  {
   "cell_type": "code",
   "execution_count": 12,
   "metadata": {},
   "outputs": [],
   "source": [
    "def NegativeCount(a_lList):\n",
    "    iNegativeCount = 0\n",
    "    for number in a_lList:\n",
    "        if number < 0:\n",
    "            iNegativeCount += 1\n",
    "    return iNegativeCount"
   ]
  },
  {
   "cell_type": "markdown",
   "metadata": {},
   "source": [
    "This is a more concise, but less readable version of the function above that counts negatives in a given list."
   ]
  },
  {
   "cell_type": "code",
   "execution_count": 13,
   "metadata": {},
   "outputs": [],
   "source": [
    "def NegativeCountShorter(a_lList):\n",
    "    return sum([number < 0 for number in _NumberList])"
   ]
  },
  {
   "cell_type": "markdown",
   "metadata": {},
   "source": [
    "We can then test these functions and print their output."
   ]
  },
  {
   "cell_type": "code",
   "execution_count": 14,
   "metadata": {},
   "outputs": [
    {
     "data": {
      "text/plain": [
       "4"
      ]
     },
     "execution_count": 14,
     "metadata": {},
     "output_type": "execute_result"
    }
   ],
   "source": [
    "_NumberList = [-4, -2, 3, 324, 2, -1343, -535]\n",
    "NegativeCount(_NumberList)"
   ]
  },
  {
   "cell_type": "code",
   "execution_count": 15,
   "metadata": {},
   "outputs": [
    {
     "data": {
      "text/plain": [
       "4"
      ]
     },
     "execution_count": 15,
     "metadata": {},
     "output_type": "execute_result"
    }
   ],
   "source": [
    "NegativeCountShorter(_NumberList)"
   ]
  }
 ],
 "metadata": {
  "kernelspec": {
   "display_name": "Fast AI Python3 Kernel 2",
   "language": "python",
   "name": "fastaipython3"
  },
  "language_info": {
   "codemirror_mode": {
    "name": "ipython",
    "version": 3
   },
   "file_extension": ".py",
   "mimetype": "text/x-python",
   "name": "python",
   "nbconvert_exporter": "python",
   "pygments_lexer": "ipython3",
   "version": "3.7.4"
  }
 },
 "nbformat": 4,
 "nbformat_minor": 2
}
