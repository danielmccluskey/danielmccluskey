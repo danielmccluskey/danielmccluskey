{
 "cells": [
  {
   "cell_type": "markdown",
   "metadata": {},
   "source": [
    "<img src=\"img/uoglogo.jpg\" style=\"float:left; width: 30%;\" alt=\"Drawing\" />\n",
    "<img src=\"img/jupyterlogo.png\" style=\"float:right; width: 7%; text-align:left; margin-right:0; margin-top:0;\" />"
   ]
  },
  {
   "cell_type": "markdown",
   "metadata": {},
   "source": [
    "# CT40XX - Week 2 Tutorial"
   ]
  },
  {
   "cell_type": "markdown",
   "metadata": {},
   "source": [
    "The following tasks are designed to test your knowledge on what we have learned during todays session, make sure to read each section carefully and then edit the code cells to fit the requirements. \n",
    "\n",
    "Try to complete the tasks by yourself, but if you would like some help you can either:\n",
    "- Look back at this weeks Lecture slides.\n",
    "- Ask one of the module tutors for help during a session.\n",
    "- Use Google to your advantage!"
   ]
  },
  {
   "cell_type": "markdown",
   "metadata": {},
   "source": [
    "<hr></hr>"
   ]
  },
  {
   "cell_type": "markdown",
   "metadata": {},
   "source": [
    "## List Manipulation"
   ]
  },
  {
   "cell_type": "markdown",
   "metadata": {},
   "source": [
    "### Task 1 - Extracting from a List"
   ]
  },
  {
   "cell_type": "markdown",
   "metadata": {},
   "source": [
    "For this task you will do the following:\n",
    "- Set the given variables to their appropriate value e.g. Set `sFirstNameInList` to the first name in `sNameList` \n",
    "- Do not just copy/write out the names from the list, you should use indexing to extract the names from the list."
   ]
  },
  {
   "cell_type": "code",
   "execution_count": null,
   "metadata": {},
   "outputs": [],
   "source": [
    "sNameList = [\"Brian\", \"David\", \"William\", \"Joshua\", \"Danny\"]\n",
    "\n",
    "#Fill in the following:\n",
    "sFirstNameInList = \n",
    "sSecondNameInList = \n",
    "sLastNameInList = \n",
    "sSecondToLastNameInList = \n",
    "\n",
    "sFirstThreeNamesInList = \n",
    "sLastTwoNamesInList = "
   ]
  },
  {
   "cell_type": "markdown",
   "metadata": {},
   "source": [
    "<hr></hr>"
   ]
  },
  {
   "cell_type": "markdown",
   "metadata": {},
   "source": [
    "### Task 2 - Editing a List"
   ]
  },
  {
   "cell_type": "markdown",
   "metadata": {},
   "source": [
    "For this task you will do the following:\n",
    "- Add `\"Daniel\"` to `sNameList`\n",
    "- Remove `\"David\"` from `sNameList`\n",
    "- Insert `\"Matthew\"` between `\"Joshua\"` and `\"Danny\"`\n",
    "- Remove the second name in the list\n",
    "\n",
    "\n",
    "At the end, sNameList should look like `[\"Brian\", \"Joshua\", \"Matthew\", \"Danny\", \"Daniel\"]`"
   ]
  },
  {
   "cell_type": "code",
   "execution_count": null,
   "metadata": {},
   "outputs": [],
   "source": [
    "sNameList = [\"Brian\", \"David\", \"William\", \"Joshua\", \"Danny\"]\n",
    "\n",
    "#Your code goes here\n",
    "\n",
    "\n",
    "\n"
   ]
  },
  {
   "cell_type": "markdown",
   "metadata": {},
   "source": [
    "<hr></hr>"
   ]
  },
  {
   "cell_type": "markdown",
   "metadata": {},
   "source": [
    "## Using Loops"
   ]
  },
  {
   "cell_type": "markdown",
   "metadata": {},
   "source": [
    "### Task 1 - Square Numbers"
   ]
  },
  {
   "cell_type": "markdown",
   "metadata": {},
   "source": [
    "For this task, you will do the following:\n",
    "- Use a loop to go through the numbers 1-15 and then print the square of each of the numbers.\n",
    "\n",
    "The end result should be:\n",
    "```python\n",
    "1\n",
    "4\n",
    "9\n",
    "16\n",
    "25\n",
    "...and so on...\n",
    "```"
   ]
  },
  {
   "cell_type": "code",
   "execution_count": null,
   "metadata": {},
   "outputs": [],
   "source": [
    "#Your code goes here!\n",
    "\n",
    "\n",
    "\n",
    "\n",
    "\n"
   ]
  },
  {
   "cell_type": "markdown",
   "metadata": {},
   "source": [
    "<hr></hr>"
   ]
  },
  {
   "cell_type": "markdown",
   "metadata": {},
   "source": [
    "### Task 2 - Looping through a string"
   ]
  },
  {
   "cell_type": "markdown",
   "metadata": {},
   "source": [
    "For this task, you will do the following:\n",
    "- Take a user input (Code is given to you)\n",
    "- Make sure that the user actually inputted anything.\n",
    "- Make sure that the input that the user gives is a single character.\n",
    "- Loop through the given string (`sStringToLoopThrough`) and tell the user how many times their letter appears in the string.\n",
    "\n",
    "Extras:\n",
    "- Try and put your code into a function that takes a string and a character as inputs, and outputs how many times that character appears in the string.\n",
    "- Make your function count the Upper case **and** lower case of the given character."
   ]
  },
  {
   "cell_type": "code",
   "execution_count": null,
   "metadata": {},
   "outputs": [],
   "source": [
    "sStringToLoopThrough = \"\"\"pytHon is an intErpreted, high-LeveL, general-purpOse programming language. \n",
    "creaTed by guido van rossum and tHEn fiRst rEleased in 1991\"\"\"\n",
    "\n",
    "sInputCharacter = input(\"What character would you like to search for?: \")\n",
    "\n",
    "#Your code goes here!\n",
    "\n",
    "\n",
    "\n",
    "\n",
    "\n"
   ]
  },
  {
   "cell_type": "markdown",
   "metadata": {},
   "source": [
    "<hr></hr>"
   ]
  },
  {
   "cell_type": "markdown",
   "metadata": {},
   "source": [
    "### Task 3 - Looping through a string (Again)"
   ]
  },
  {
   "cell_type": "markdown",
   "metadata": {},
   "source": [
    "For this task, you will do the following:\n",
    "- Loop through the given string (`sStringToLoopThrough`)\n",
    "- Check if the current character is Upper case\n",
    "- If it is Upper case, `print()` that character.\n",
    "- Make all characters print on the same line.\n",
    "\n",
    "\n",
    "*Hint:*\n",
    "\n",
    "- *Putting a comma after a `print(),` statement will make the next one `print(),` on the same line.*\n",
    "\n",
    "\n",
    "Extras:\n",
    "- Try and put your code into a function that takes a string as an Input, and then outputs the Upper case letters.\n",
    "- Print a new line at the end of the loop so that any `print()` called after, doesn't print on the same line."
   ]
  },
  {
   "cell_type": "code",
   "execution_count": null,
   "metadata": {
    "scrolled": true
   },
   "outputs": [],
   "source": [
    "sStringToLoopThrough = \"\"\"pytHon is an intErpreted, high-LeveL, general-purpOse programming language. \n",
    "creaTed by guido van rossum and tHEn fiRst rEleased in 1991\"\"\"\n",
    "\n",
    "#Your code goes here!\n",
    "\n",
    "\n",
    "\n",
    "\n"
   ]
  },
  {
   "cell_type": "markdown",
   "metadata": {},
   "source": [
    "<hr></hr>"
   ]
  },
  {
   "cell_type": "markdown",
   "metadata": {},
   "source": [
    "### Task 4 - Finding Odd and Even"
   ]
  },
  {
   "cell_type": "markdown",
   "metadata": {},
   "source": [
    "For this task, you will do the following:\n",
    "- Loop through the given Integer list\n",
    "- If the Number is Odd, add it to the `iOddNumbers` List.\n",
    "- If the Number is Even, add it to the `iEvenNumbers` List.\n",
    "\n",
    "\n",
    "*Hint:*\n",
    "\n",
    "- Use the `%` operator!\n"
   ]
  },
  {
   "cell_type": "code",
   "execution_count": null,
   "metadata": {
    "scrolled": true
   },
   "outputs": [],
   "source": [
    "iNumberList = [3, 6, 4, 2, 12354 ,123, 2, 1, 343, 223, 6, 34, 54, 23, 12, 7, 6, 5, 6345, 7, 54, 6345]\n",
    "iOddNumbers = []\n",
    "iEvenNumbers = []\n",
    "\n",
    "#Your code goes here!\n",
    "\n",
    "\n",
    "\n",
    "\n",
    "\n",
    "\n",
    "print(\"The Odd numbers are: \" + str(iOddNumbers))\n",
    "print(\"The Even numbers are: \" + str(iEvenNumbers))"
   ]
  },
  {
   "cell_type": "markdown",
   "metadata": {},
   "source": [
    "<hr></hr>"
   ]
  },
  {
   "cell_type": "markdown",
   "metadata": {},
   "source": [
    "### Task 5 - Separating words"
   ]
  },
  {
   "cell_type": "markdown",
   "metadata": {},
   "source": [
    "For this task, you will do the following:\n",
    "- Loop through the given String.\n",
    "- Add each word of the string to the `sWords` list\n",
    "- Don't include punctuation in the words\n",
    "\n",
    "e.g.\n",
    "```\n",
    "sSentence = [\"Hello, my name is Ryan. Nice to meet you!\"]```\n",
    "\n",
    "Should be separated into:\n",
    "```\n",
    "sWords = [\"Hello\", \"my\", \"name\", \"is\", \"Ryan\", \"Nice\", \"to\", \"meet\", \"you\"]```\n",
    "\n"
   ]
  },
  {
   "cell_type": "code",
   "execution_count": null,
   "metadata": {
    "scrolled": true
   },
   "outputs": [],
   "source": [
    "sSentence = [\"This is an easy sentence to separate because it does not contain any punctuation\"]\n",
    "sSecondSentence = [\"Try and separate this one aswell, I've included lots of punctation! So you may have to make a few more checks!\"]\n",
    "sWords = []\n",
    "sSecondWords = []\n",
    "\n",
    "#Your code goes here!\n",
    "\n",
    "\n",
    "\n",
    "\n",
    "\n",
    "\n",
    "print(\"The Separated words are: \" + str(sWords))\n",
    "print(\"The next set of words are: \" + str(sSecondWords))"
   ]
  },
  {
   "cell_type": "markdown",
   "metadata": {},
   "source": [
    "<hr></hr>"
   ]
  },
  {
   "cell_type": "markdown",
   "metadata": {},
   "source": [
    "### Task 6 - Finding a Factor"
   ]
  },
  {
   "cell_type": "markdown",
   "metadata": {},
   "source": [
    "For this task, you will do the following:\n",
    "- Use a `while` loop to find the first 3 factors of `76`.\n",
    "- Add these factors to a list.\n",
    "- Use `print()` to display these when the program has finished.\n",
    "\n",
    "\n",
    "At the end, iFactorList should look like `[76, 152, 228]`\n"
   ]
  },
  {
   "cell_type": "code",
   "execution_count": null,
   "metadata": {
    "scrolled": true
   },
   "outputs": [],
   "source": [
    "iFactorList = []\n",
    "\n",
    "#Your code goes here!\n",
    "\n",
    "\n",
    "\n",
    "    "
   ]
  }
 ],
 "metadata": {
  "kernelspec": {
   "display_name": "Python 3",
   "language": "python",
   "name": "python3"
  },
  "language_info": {
   "codemirror_mode": {
    "name": "ipython",
    "version": 3
   },
   "file_extension": ".py",
   "mimetype": "text/x-python",
   "name": "python",
   "nbconvert_exporter": "python",
   "pygments_lexer": "ipython3",
   "version": "3.6.8"
  }
 },
 "nbformat": 4,
 "nbformat_minor": 2
}
