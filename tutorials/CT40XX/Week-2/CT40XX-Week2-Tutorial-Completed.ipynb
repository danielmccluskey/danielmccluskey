{
 "cells": [
  {
   "cell_type": "markdown",
   "metadata": {},
   "source": [
    "<img src=\"img/uoglogo.jpg\" style=\"float:left; width: 30%;\" alt=\"Drawing\" />\n",
    "<img src=\"img/jupyterlogo.png\" style=\"float:right; width: 7%; text-align:left; margin-right:0; margin-top:0;\" />"
   ]
  },
  {
   "cell_type": "markdown",
   "metadata": {},
   "source": [
    "# CT40XX - Week 2 Tutorial"
   ]
  },
  {
   "cell_type": "markdown",
   "metadata": {},
   "source": [
    "The following tasks are designed to test your knowledge on what we have learned during todays session, make sure to read each section carefully and then edit the code cells to fit the requirements. \n",
    "\n",
    "Try to complete the tasks by yourself, but if you would like some help you can either:\n",
    "- Look back at this weeks Lecture slides.\n",
    "- Ask one of the module tutors for help during a session.\n",
    "- Use Google to your advantage!"
   ]
  },
  {
   "cell_type": "markdown",
   "metadata": {},
   "source": [
    "<hr></hr>"
   ]
  },
  {
   "cell_type": "markdown",
   "metadata": {},
   "source": [
    "## List Manipulation"
   ]
  },
  {
   "cell_type": "markdown",
   "metadata": {},
   "source": [
    "### Task 1 - Extracting from a List"
   ]
  },
  {
   "cell_type": "markdown",
   "metadata": {},
   "source": [
    "For this task you will do the following:\n",
    "- Set the given variables to their appropriate value e.g. Set `sFirstNameInList` to the first name in `sNameList` \n",
    "- Do not just copy/write out the names from the list, you should use indexing to extract the names from the list."
   ]
  },
  {
   "cell_type": "code",
   "execution_count": null,
   "metadata": {},
   "outputs": [],
   "source": [
    "sNameList = [\"Brian\", \"David\", \"William\", \"Joshua\", \"Danny\"]\n",
    "\n",
    "#Fill in the following:\n",
    "sFirstNameInList = sNameList[0]\n",
    "sSecondNameInList = sNameList[1]\n",
    "sLastNameInList = sNameList[-1]\n",
    "sSecondToLastNameInList = sNameList[-2]\n",
    "\n",
    "sFirstThreeNamesInList = sNameList[:3]\n",
    "sLastTwoNamesInList = sNameList[-2:]"
   ]
  },
  {
   "cell_type": "markdown",
   "metadata": {},
   "source": [
    "<hr></hr>"
   ]
  },
  {
   "cell_type": "markdown",
   "metadata": {},
   "source": [
    "### Task 2 - Editing a List"
   ]
  },
  {
   "cell_type": "markdown",
   "metadata": {},
   "source": [
    "For this task you will do the following:\n",
    "- Add `\"Daniel\"` to `sNameList`\n",
    "- Remove `\"David\"` from `sNameList`\n",
    "- Insert `\"Matthew\"` between `\"Joshua\"` and `\"Danny\"`\n",
    "- Remove the second name in the list\n",
    "\n",
    "\n",
    "At the end, sNameList should look like `[\"Brian\", \"Joshua\", \"Matthew\", \"Danny\", \"Daniel\"]`"
   ]
  },
  {
   "cell_type": "code",
   "execution_count": null,
   "metadata": {},
   "outputs": [],
   "source": [
    "sNameList = [\"Brian\", \"David\", \"William\", \"Joshua\", \"Danny\"]\n",
    "\n",
    "#Your code goes here\n",
    "\n",
    "sNameList.append(\"Daniel\")\n",
    "sNameList.remove(\"David\")\n",
    "sNameList.insert(3, \"Matthew\")\n",
    "sNameList.pop(1)\n",
    "\n",
    "print(sNameList)"
   ]
  },
  {
   "cell_type": "markdown",
   "metadata": {},
   "source": [
    "<hr></hr>"
   ]
  },
  {
   "cell_type": "markdown",
   "metadata": {},
   "source": [
    "## Using Loops"
   ]
  },
  {
   "cell_type": "markdown",
   "metadata": {},
   "source": [
    "### Task 1 - Square Numbers"
   ]
  },
  {
   "cell_type": "markdown",
   "metadata": {},
   "source": [
    "For this task, you will do the following:\n",
    "- Use a loop to go through the numbers 1-15 and then print the square of each of the numbers.\n",
    "\n",
    "The end result should be:\n",
    "```python\n",
    "1\n",
    "4\n",
    "9\n",
    "16\n",
    "25\n",
    "...and so on...\n",
    "```"
   ]
  },
  {
   "cell_type": "code",
   "execution_count": null,
   "metadata": {},
   "outputs": [],
   "source": [
    "#Your code goes here!\n",
    "\n",
    "for iNumber in range(15):#Loop from 0 to 15\n",
    "    print(iNumber**2)#Print the number to the power of 2"
   ]
  },
  {
   "cell_type": "markdown",
   "metadata": {},
   "source": [
    "<hr></hr>"
   ]
  },
  {
   "cell_type": "markdown",
   "metadata": {},
   "source": [
    "### Task 2 - Looping through a string"
   ]
  },
  {
   "cell_type": "markdown",
   "metadata": {},
   "source": [
    "For this task, you will do the following:\n",
    "- Take a user input (Code is given to you)\n",
    "- Make sure that the user actually inputted anything.\n",
    "- Make sure that the input that the user gives is a single character.\n",
    "- Loop through the given string (`sStringToLoopThrough`) and tell the user how many times their letter appears in the string.\n",
    "\n",
    "Extras:\n",
    "- Try and put your code into a function that takes a string and a character as inputs, and outputs how many times that character appears in the string.\n",
    "- Make your function count the Upper case **and** lower case of the given character."
   ]
  },
  {
   "cell_type": "code",
   "execution_count": null,
   "metadata": {},
   "outputs": [],
   "source": [
    "sStringToLoopThrough = \"\"\"pytHon is an intErpreted, high-LeveL, general-purpOse programming language. \n",
    "creaTed by guido van rossum and tHEn fiRst rEleased in 1991\"\"\"\n",
    "\n",
    "sInputCharacter = input(\"What character would you like to search for?: \")#Grab users input\n",
    "\n",
    "#Your code goes here!\n",
    "\n",
    "\n",
    "#This will loop forever while the users input is not a single character\n",
    "while(len(sInputCharacter) != 1):\n",
    "    print(\"Please input a single character!\")#Prompt them\n",
    "    sInputCharacter = input(\"What character would you like to search for?: \")#Get another input\n",
    "\n",
    "    \n",
    "iCounter = 0 \n",
    "for sChar in sStringToLoopThrough:#Loop through each character\n",
    "    if(sChar == sInputCharacter):#If the current iter is the one we are searching for\n",
    "        iCounter += 1#Add to the count\n",
    "\n",
    "print(\"Found \" + str(iCounter) + \" occurences of \" + sInputCharacter)\n",
    "\n",
    "\n"
   ]
  },
  {
   "cell_type": "markdown",
   "metadata": {},
   "source": [
    "###### Extras"
   ]
  },
  {
   "cell_type": "code",
   "execution_count": null,
   "metadata": {},
   "outputs": [],
   "source": [
    "#Your code goes here!\n",
    "\n",
    "#Functions should go at the top of your code blocks\n",
    "#It is good practice to put them in their own Code cells when using Jupyter Notebook\n",
    "def LetterCount(sString, sCharacter):\n",
    "    iCounter = 0 \n",
    "    for sChar in sString:\n",
    "        if(sChar.lower() == sCharacter.lower()):\n",
    "            iCounter += 1\n",
    "    return iCounter\n",
    "\n",
    "#This function does exactly the same as the one above, but I have summarised it into a single line.\n",
    "#This is good for tidying up code but can impact readability.\n",
    "def LetterCountSmaller(sString, sCharacter):\n",
    "    return len([sChar for sChar in sString if sChar.lower() == sCharacter.lower()])\n",
    "\n",
    "\n",
    "\n",
    "sStringToLoopThrough = \"\"\"pytHon is an intErpreted, high-LeveL, general-purpOse programming language. \n",
    "creaTed by guido van rossum and tHEn fiRst rEleased in 1991\"\"\"\n",
    "sInputCharacter = input(\"What character would you like to search for?: \")\n",
    "while(len(sInputCharacter) != 1):\n",
    "    print(\"Please input a single character!\")\n",
    "    sInputCharacter = input(\"What character would you like to search for?: \")\n",
    "    \n",
    "\n",
    "iAmount = LetterCount(sStringToLoopThrough, sInputCharacter)    \n",
    "print(\"Found \" + str(iAmount) + \" occurences of \" + sInputCharacter)\n",
    "\n",
    "iAmount = LetterCountSmaller(sStringToLoopThrough, sInputCharacter)    \n",
    "print(\"Found \" + str(iAmount) + \" occurences of \" + sInputCharacter)\n",
    "\n"
   ]
  },
  {
   "cell_type": "markdown",
   "metadata": {},
   "source": [
    "<hr></hr>"
   ]
  },
  {
   "cell_type": "markdown",
   "metadata": {},
   "source": [
    "### Task 3 - Looping through a string (Again)"
   ]
  },
  {
   "cell_type": "markdown",
   "metadata": {},
   "source": [
    "For this task, you will do the following:\n",
    "- Loop through the given string (`sStringToLoopThrough`)\n",
    "- Check if the current character is Upper case\n",
    "- If it is Upper case, `print()` that character.\n",
    "- Make all characters print on the same line.\n",
    "\n",
    "Extras:\n",
    "- Try and put your code into a function that takes a string as an Input, and then outputs the Upper case letters.\n",
    "- Print a new line at the end of the loop so that any `print()` called after, doesn't print on the same line."
   ]
  },
  {
   "cell_type": "code",
   "execution_count": null,
   "metadata": {
    "scrolled": true
   },
   "outputs": [],
   "source": [
    "sStringToLoopThrough = \"\"\"pytHon is an intErpreted, high-LeveL, general-purpOse programming language. \n",
    "creaTed by guido van rossum and tHEn fiRst rEleased in 1991\"\"\"\n",
    "\n",
    "#Your code goes here!\n",
    "sTempString = \"\"\n",
    "for sChar in sStringToLoopThrough:#Loop through the string\n",
    "    if(sChar.isupper() == True):#If the character is upper case\n",
    "        sTempString += sChar#Add it to the string\n",
    "        \n",
    "        \n",
    "print(sTempString)"
   ]
  },
  {
   "cell_type": "code",
   "execution_count": null,
   "metadata": {
    "scrolled": true
   },
   "outputs": [],
   "source": [
    "def FindUpperCase(sString):\n",
    "    sUpperCaseLetters = [sChar for sChar in sString if sChar.isupper()]\n",
    "    return \"\".join(sUpperCaseLetters)    \n",
    "\n",
    "\n",
    "\n",
    "sStringToLoopThrough = \"\"\"pytHon is an intErpreted, high-LeveL, general-purpOse programming language. \n",
    "creaTed by guido van rossum and tHEn fiRst rEleased in 1991\"\"\"\n",
    "\n",
    "\n",
    "        \n",
    "        \n",
    "print(FindUpperCase(sStringToLoopThrough))"
   ]
  },
  {
   "cell_type": "markdown",
   "metadata": {},
   "source": [
    "<hr></hr>"
   ]
  },
  {
   "cell_type": "markdown",
   "metadata": {},
   "source": [
    "### Task 4 - Finding Odd and Even"
   ]
  },
  {
   "cell_type": "markdown",
   "metadata": {},
   "source": [
    "For this task, you will do the following:\n",
    "- Loop through the given Integer list\n",
    "- If the Number is Odd, add it to the `iOddNumbers` List.\n",
    "- If the Number is Even, add it to the `iEvenNumbers` List.\n",
    "\n",
    "\n",
    "*Hint:*\n",
    "\n",
    "- Use the `%` operator!\n"
   ]
  },
  {
   "cell_type": "code",
   "execution_count": null,
   "metadata": {
    "scrolled": true
   },
   "outputs": [],
   "source": [
    "iNumberList = [3, 6, 4, 2, 12354 ,123, 2, 1, 343, 223, 6, 34, 54, 23, 12, 7, 6, 5, 6345, 7, 54, 6345]\n",
    "iOddNumbers = []\n",
    "iEvenNumbers = []\n",
    "\n",
    "#Your code goes here!\n",
    "\n",
    "for iNum in iNumberList:\n",
    "    if(iNum % 2 == 0):\n",
    "        iEvenNumbers.append(iNum)\n",
    "    else:\n",
    "        iOddNumbers.append(iNum)\n",
    "\n",
    "#Make them look presentable\n",
    "iEvenNumbers.sort()\n",
    "iOddNumbers.sort()\n",
    "\n",
    "\n",
    "print(\"The Odd numbers are: \" + str(iOddNumbers))\n",
    "print(\"The Even numbers are: \" + str(iEvenNumbers))"
   ]
  },
  {
   "cell_type": "markdown",
   "metadata": {},
   "source": [
    "<hr></hr>"
   ]
  },
  {
   "cell_type": "markdown",
   "metadata": {},
   "source": [
    "### Task 5 - Separating words"
   ]
  },
  {
   "cell_type": "markdown",
   "metadata": {},
   "source": [
    "For this task, you will do the following:\n",
    "- Loop through the given String.\n",
    "- Add each word of the string to the `sWords` list\n",
    "- Don't include punctuation in the words\n",
    "\n",
    "e.g.\n",
    "```\n",
    "sSentence = [\"Hello, my name is Ryan. Nice to meet you!\"]```\n",
    "\n",
    "Should be separated into:\n",
    "```\n",
    "sWords = [\"Hello\", \"my\", \"name\", \"is\", \"Ryan\", \"Nice\", \"to\", \"meet\", \"you\"]```\n",
    "\n"
   ]
  },
  {
   "cell_type": "code",
   "execution_count": 9,
   "metadata": {
    "scrolled": false
   },
   "outputs": [
    {
     "name": "stdout",
     "output_type": "stream",
     "text": [
      "The Separated words are: ['This', 'is', 'an', 'easy', 'sentence', 'to', 'separate', 'because', 'it', 'does', 'not', 'contain', 'any', 'punctuation']\n",
      "The next set of words are: ['Try', 'and', 'separate', 'this', 'one', 'aswell', \"I've\", 'included', 'lots', 'of', 'punctation', 'So', 'you', 'may', 'have', 'to', 'make', 'a', 'few', 'more', 'checks']\n"
     ]
    }
   ],
   "source": [
    "sSentence = \"This is an easy sentence to separate because it does not contain any punctuation\"\n",
    "sSecondSentence = \"Try and separate this one aswell, I've included lots of punctation! So you may have to make a few more checks!\"\n",
    "sWords = []\n",
    "sSecondWords = []\n",
    "\n",
    "#Your code goes here!\n",
    "\n",
    "def SeparateWords(sString):\n",
    "    sTempString = \"\"\n",
    "    sSeparatedWords = []\n",
    "    for sChar in sString:\n",
    "        if(sChar.isalpha() == True or sChar == \"'\"):\n",
    "            sTempString += sChar\n",
    "            \n",
    "        else:\n",
    "            if(len(sTempString) > 0):\n",
    "                sSeparatedWords.append(sTempString)\n",
    "                sTempString = \"\"\n",
    "         \n",
    "    if(len(sTempString) > 0):\n",
    "            sSeparatedWords.append(sTempString)\n",
    "            sTempString = \"\"\n",
    "    return sSeparatedWords\n",
    "\n",
    "\n",
    "\n",
    "sWords = SeparateWords(sSentence)\n",
    "sSecondWords = SeparateWords(sSecondSentence)\n",
    "\n",
    "\n",
    "print(\"The Separated words are: \" + str(sWords))\n",
    "print(\"The next set of words are: \" + str(sSecondWords))"
   ]
  },
  {
   "cell_type": "markdown",
   "metadata": {},
   "source": [
    "##### Extras\n",
    "\n",
    "If we `import` the `string` library, we can make use of its predefined punctuation array. The following function does exactly the same as the one above, but in only 2 lines!"
   ]
  },
  {
   "cell_type": "code",
   "execution_count": 12,
   "metadata": {},
   "outputs": [
    {
     "name": "stdout",
     "output_type": "stream",
     "text": [
      "The Separated words are: ['This', 'is', 'an', 'easy', 'sentence', 'to', 'separate', 'because', 'it', 'does', 'not', 'contain', 'any', 'punctuation']\n",
      "The next set of words are: ['Try', 'and', 'separate', 'this', 'one', 'aswell', \"I've\", 'included', 'lots', 'of', 'punctation', 'So', 'you', 'may', 'have', 'to', 'make', 'a', 'few', 'more', 'checks']\n"
     ]
    }
   ],
   "source": [
    "import string as StringLibrary\n",
    "\n",
    "def SeparateWordsSmaller(sString):\n",
    "    sString.translate(StringLibrary.punctuation)#Remove all punctuation from the given string.\n",
    "    return sString.split(\" \")#Split the string up when it encounters a space character\n",
    "\n",
    "\n",
    "sSentence = \"This is an easy sentence to separate because it does not contain any punctuation\"\n",
    "sSecondSentence = \"Try and separate this one aswell, I've included lots of punctation! So you may have to make a few more checks!\"\n",
    "sWords = []\n",
    "sSecondWords = []\n",
    "\n",
    "\n",
    "\n",
    "\n",
    "\n",
    "sWords = SeparateWordsSmaller(sSentence)\n",
    "sSecondWords = SeparateWords(sSecondSentence)\n",
    "\n",
    "\n",
    "print(\"The Separated words are: \" + str(sWords))\n",
    "print(\"The next set of words are: \" + str(sSecondWords))"
   ]
  },
  {
   "cell_type": "markdown",
   "metadata": {},
   "source": [
    "<hr></hr>"
   ]
  },
  {
   "cell_type": "markdown",
   "metadata": {},
   "source": [
    "### Task 6 - Finding a Factor"
   ]
  },
  {
   "cell_type": "markdown",
   "metadata": {},
   "source": [
    "For this task, you will do the following:\n",
    "- Use a `while` loop to find the first 3 factors of `76`.\n",
    "- Add these factors to a list.\n",
    "- Use `print()` to display these when the program has finished.\n",
    "\n",
    "\n",
    "At the end, iFactorList should look like `[76, 152, 228]`\n"
   ]
  },
  {
   "cell_type": "code",
   "execution_count": 14,
   "metadata": {
    "scrolled": true
   },
   "outputs": [
    {
     "name": "stdout",
     "output_type": "stream",
     "text": [
      "[76, 152, 228]\n"
     ]
    }
   ],
   "source": [
    "iFactorList = []\n",
    "iCounter = 1\n",
    "#Your code goes here!\n",
    "while(len(iFactorList) != 3):\n",
    "    if(iCounter % 76 == 0):\n",
    "        iFactorList.append(iCounter)\n",
    "        \n",
    "    iCounter += 1\n",
    "\n",
    "print(iFactorList)\n",
    "    "
   ]
  }
 ],
 "metadata": {
  "kernelspec": {
   "display_name": "Python 3",
   "language": "python",
   "name": "python3"
  },
  "language_info": {
   "codemirror_mode": {
    "name": "ipython",
    "version": 3
   },
   "file_extension": ".py",
   "mimetype": "text/x-python",
   "name": "python",
   "nbconvert_exporter": "python",
   "pygments_lexer": "ipython3",
   "version": "3.6.8"
  }
 },
 "nbformat": 4,
 "nbformat_minor": 2
}
